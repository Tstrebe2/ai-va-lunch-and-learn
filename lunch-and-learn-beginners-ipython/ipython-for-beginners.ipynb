{
 "cells": [
  {
   "cell_type": "markdown",
   "metadata": {},
   "source": [
    "<center><img src=\"https://www.research.va.gov/naii/SPCommunityBanner700x350.png\"/></center>\n",
    "<br>\n",
    "<br>\n",
    "\n",
    "# AI @ VA Python for Beginners\n",
    "#### A Gentle Introduction to Interactive Python (IPython) Notebooks and the Python Programming Language\n",
    "<p>By Tim Strebel</p>\n",
    "\n"
   ]
  },
  {
   "cell_type": "markdown",
   "metadata": {},
   "source": [
    "### Section 1: Introduction"
   ]
  },
  {
   "cell_type": "markdown",
   "metadata": {},
   "source": [
    "Hello and welcome to my beginner's tutorial on IPython notebooks. My name is Tim Strebel. I am a <strong>data scientist</strong> and Artificial Intelligence (AI) Program Supevisor at the Washington DC VA. I want to extend a warm welcome to everyone to the <a href=https://www.research.va.gov/naii/join.cfm>AI @ VA community</a>.\n",
    "\n",
    "\n",
    "To kick off our AI @ VA community, lunch and learn series, I wanted to create a Python tutorial that is useful and accessible to people all skill levels. \n",
    "\n",
    "In this tutorial, we will explore some basic concepts of **Artificial Intelligence**, **interactive (IPython) python notebooks** and the ****Python programming language**.\n",
    "\n",
    "\n",
    "To start, **Artificial Intelligence (AI)** is a computer science discipline that aims to leverage machines to perform tasks commonly associated with intelligent beings <a href=https://www.britannica.com/technology/artificial-intelligence>source</a>. At the very basis of AI technology is **machine learning** which is the use of algorthms and statistics to find patterns in large datasets. \n",
    "\n",
    "When datasets become quite large, the term **\"big data\"** is commonly used to describe these datasets which can be used for **deep learning**. You can think of deep learning as machine learning on steroids. It uses techniques such as **deep neural networks** which are very computationally large models that can capture intricate and complex patterns in large datasets.\n",
    "\n",
    "<center>\n",
    "<figure>\n",
    "<img src=\"https://miro.medium.com/max/1400/0*1DqTRU7WREONm9oa.png\"/>\n",
    "<figcaption>Neural Network Architecture - Source: <a href=\"https://playground.tensorflow.org/#activation=tanh&batchSize=10&dataset=circle&regDataset=reg-plane&learningRate=0.03&regularizationRate=0&noise=0&networkShape=4,2&seed=0.51581&showTestData=false&discretize=false&percTrainData=50&x=true&y=true&xTimesY=false&xSquared=false&ySquared=false&cosX=false&sinX=false&cosY=false&sinY=false&collectStats=false&problem=classification&initZero=false&hideText=false\">https://playground.tensorflow.org</a></figcaption\">\n",
    "</figure>\n",
    "</center>"
   ]
  },
  {
   "cell_type": "markdown",
   "metadata": {},
   "source": [
    "There are many programming languages that are commonly used to develop AI models and systems. \n",
    "\n",
    "While the best language for AI is still a conversation of great debate, there are many reasons to prefer Python above all others. \n",
    "\n",
    "As an avid Python programmer and advocate for the langage, it is my go-to recommendation for anyone wanting to practice machine and deep learning for many reasons:\n",
    "<ul>\n",
    "    <li>Its easy to learn and use</li>\n",
    "    <li>Is open source</li>\n",
    "    <li>Has an active community that provides robust support through sites like Stack Overflow and Github</li>\n",
    "    <li>Has well maintained documentation for its core and other libraries</li>\n",
    "    <li>Has fully-matured libraries for natural languate processin (NLP), mathematics, data mining, data manipulation and data visualization which are foundational AI techniques\n",
    "    <ul>\n",
    "        <li>Packages include <strong>Spacy, NLTK, Numpy, Scipy, Weka, Mlxtend, Pandas, Matplotlib, Plotly</strong> and more.</li>\n",
    "    </ul>\n",
    "    </li>\n",
    "    <li>Has state-of-the art libraries for machine and deep learning\n",
    "    <ul>\n",
    "        <li>Packages include <strong>Scikit-learn, Theano, Keras, Tensorflow and PyTorch.</strong></li>\n",
    "    </ul>\n",
    "    </li>\n",
    "</ul>\n",
    "<br>\n",
    "<center>\n",
    "    <table>\n",
    "        <tr>\n",
    "            <td><img src=\"https://steemitimages.com/640x0/https://cdn.steemitimages.com/DQmTgS1uQwEPqnobt4LEctbZP2dsqPnPC3jEw2EgyeLqz1H/image.png\"/></td>\n",
    "            <td><img src=\"https://steemitimages.com/640x0/https://cdn.steemitimages.com/DQmSymJNoerFg7KJoxjaa7vJoK1iKC57PbS4XnTkXGEgoqD/image.png\"/></td>\n",
    "        <tr>\n",
    "        <tr>\n",
    "            <td><p>Source: <i><a href=\"https://steemit.com/technology/@aitech/best-programming-languages-for-artificial-intelligence\"> https://steemit.com/</a></i></p></td>\n",
    "        <tr>\n",
    "    </table>\n",
    "</center>"
   ]
  },
  {
   "cell_type": "markdown",
   "metadata": {},
   "source": [
    "Python can be downloaded from <a href=https://www.python.org/>https://www.python.org/</a>. \n",
    "\n",
    "Once downloaded you can create python files in an <strong>integrated development environment (IDE)</strong> or in a <strong>notepad</strong> document. \n",
    "\n",
    "Python files are saved by appending the <i>.py</i> file extension and can be executed from the command line or by clicking on the file in Windows or Linux assuming you have properly set the environment path variable (<a href=https://docs.python.org/3/using/windows.html>see section 4.6 of this link</a>). \n",
    "\n",
    "You can also schedule .py files to run on your computer via the Windows Task Scheduler. This is handy for automating daily tasks on your computer such as populating an excel spreadsheets or updating information on a website. \n",
    "\n",
    "*For security purposes, you should never execute .py files on your computer that are from unknown sources.*\n",
    "\n",
    "Python on its own can be a very powerful tool, but when combined with **interactive Python notebooks** (AKA **IPython notebooks**), the effects are synergistic. \n",
    "\n",
    "In interactive notebooks you can \n",
    "* enter chunks of **Python code** into cells that can be executed in sequence, visually inspect the output(s) of your code, use **markup** languages to create a **computational narrative** (like I am currently doing), visualize the results of data analysis by using **data visulization** libraries and **collaborate** with other data scientists and machine learning engineers on AI projects.\n",
    "\n",
    "Interactive notebooks are saved by appending the the *.ipynb* file extension. While there are many different IDE flavors to **save/load/edit** interactive Python notebooks, the .ipynb file at its core is nothing more than a *.json* file which is a flexible, widely recognized storage format.\n",
    " \n",
    "Some of my favorite free IDE's that support IPython notebooks are <a href=https://jupyter.org/>Jupyter</a>, <a href=https://code.visualstudio.com/>Visual Studio Code</a>, <a href=https://deepnote.com/>Deepnote</a>"
   ]
  },
  {
   "cell_type": "markdown",
   "metadata": {},
   "source": [
    "### Section 2: Markdown Cells"
   ]
  },
  {
   "cell_type": "markdown",
   "metadata": {},
   "source": [
    "There are two types of cells in an IPython notebook, <strong>code</strong> and <strong>markup</strong>.\n",
    "<ul>\n",
    "    <li>Code cells allow you to edit python code and display outputs.</li>\n",
    "    <li>Markdown cells allow you to imbed markup tags to display text, images, headers and even mathematical notation.\n",
    "    <li>There are at least four types of markup/down syntaxes that IPython notebooks support.</li>\n",
    "    <ol>\n",
    "        <li><a href=https://jupyter-notebook.readthedocs.io/en/stable/examples/Notebook/Working%20With%20Markdown%20Cells.html#Embedded-code>Jupyter Markdown</a></li>\n",
    "        <li><a href=https://latex-tutorial.com/tutorials/amsmath/#:~:text=LaTeX%20math%20and%20equations%201%20Using%20inline%20math,in%20math%20mode%20%E2%80%93%20Scaling.%20...%206%20Summary>LaTeX</a> equations</li>\n",
    "        <li><a href=https://github.github.com/gfm/>Github Flavored Markdown (GFM)</a></li>\n",
    "        <li><a href=https://www.w3schools.com/html/>Hyper-text Markup Language (HTML)</a> (support for some tags may be limited)</li>\n",
    "    </ol>\n",
    "    </li>\n",
    "</ul>"
   ]
  },
  {
   "cell_type": "markdown",
   "metadata": {},
   "source": [
    "Go ahead and <strong>double-click</strong> on the cell to unrender the markdown and view the different IPython syntaxes. When you are done, use the <strong>ctrl+Enter</strong> hotkey to re-render the cell."
   ]
  },
  {
   "cell_type": "markdown",
   "metadata": {},
   "source": [
    "#### Jupyter Markdown Examples\n",
    "\n",
    "**Headings**\n",
    "\n",
    "# Heading 1\n",
    "## Heading 2\n",
    "### Heading 3\n",
    "#### Heading 4\n",
    "\n",
    "**Bold Text**\n",
    "\n",
    "**this is bold text** \n",
    "\n",
    "**Italicize Text**  \n",
    "\n",
    "*This is italicized text*\n",
    "\n",
    "**Ecape Characters**\n",
    "\n",
    "\\*literal asterisks\\*\n",
    " *literal asterisks*\n",
    "\n",
    "**Order List**  \n",
    "\n",
    "1. One\n",
    "   1. Sublist level one\n",
    "   1. Sublist level one\n",
    "       1. Sublist level two\n",
    "       1. Sublist level two\n",
    "1. Two\n",
    "\n",
    "**Unordered List**  \n",
    "\n",
    "* One\n",
    "  * Sublist level one\n",
    "    * Sublist level two\n",
    "* Two\n",
    "\n",
    "**Tex Line Breaks** (use two spaces after each line of text to start a new line)  \n",
    "\n",
    "Two households, both alike in dignity,  \n",
    "In fair Verona, where we lay our scene,  \n",
    "From ancient grudge break to new mutiny,  \n",
    "Where civil blood makes civil hands unclean.\n",
    "\n",
    "**Image Embedding**  \n",
    "\n",
    "![image of a cat sitting on a chair](https://media.istockphoto.com/photos/all-paws-down-im-the-cutest-picture-id859654404?b=1&k=20&m=859654404&s=170667a&w=0&h=jXyfpUF1n_Ad-ES_fB6XLx_flRC-VUIUtRTTLe_DKTE=)"
   ]
  },
  {
   "cell_type": "markdown",
   "metadata": {},
   "source": []
  },
  {
   "cell_type": "markdown",
   "metadata": {},
   "source": [
    "### Latex Equation Examples  \n",
    "\n",
    "**Manhattan Distance**  \n",
    "$$ d(\\vec{X}, \\vec{Y}) = \\sum_i | x_i - y_i| $$\n",
    "\n",
    "**Euclidean Distance**  \n",
    "$$ d(\\vec{X}, \\vec{Y}) = sqrt{\\sum_i(x_i-y_i)^2} $$\n",
    "\n",
    "**Cosine Similarity**  \n",
    "$$ \\cos(\\vec{X}, \\vec{Y}) = frac{\\sum_ix_iy_i}{\\sqrt{\\sum_ix_i^2}\\cdot\\sqrt{\\sum_iy_i^2}} $$"
   ]
  },
  {
   "cell_type": "markdown",
   "metadata": {},
   "source": [
    "### Github Flavored Markdown (GFM)\n",
    "\n",
    "**Quoting Text**  \n",
    "\n",
    "Text that is not a quote\n",
    "\n",
    "> Text that is a quote\n",
    "\n",
    "**Quoting Code**  \n",
    "\n",
    "Some basic Git commands are:\n",
    "```\n",
    "git status\n",
    "git add\n",
    "git commit\n",
    "```\n",
    "\n",
    "**Footnotes**  \n",
    "\n",
    "Here is a simple footnote[^1].\n",
    "\n",
    "A footnote can also have multiple lines[^2].  \n",
    "\n",
    "You can also use words, to fit your writing style more closely[^note].\n",
    "\n",
    "[^1]: My reference.\n",
    "[^2]: Every new line should be prefixed with 2 spaces.  \n",
    "  This allows you to have a footnote with multiple lines.\n",
    "[^note]:\n",
    "    Named footnotes will still render with numbers instead of the text but allow easier identification and linking.  \n",
    "    This footnote also has been made with a different syntax using 4 spaces for new lines.\n",
    "\n",
    "**A GFM Table**  \n",
    "\n",
    "| First Header  | Second Header |\n",
    "| ------------- | ------------- |\n",
    "| Content Cell  | Content Cell  |\n",
    "| Content Cell  | Content Cell  |"
   ]
  },
  {
   "cell_type": "markdown",
   "metadata": {},
   "source": [
    "### Hyper-text Markup Language (HTML)\n",
    "\n",
    "<h1>Heading 1</h1>\n",
    "<h2>Heading 2</h2>\n",
    "<h3>Heading 3</h3>\n",
    "<h4>Heading 4</h4>\n",
    "\n",
    "**Bold Text**\n",
    "\n",
    "<strong>this is bold text</strong>\n",
    "\n",
    "**Italicize Text**  \n",
    "\n",
    "<i>This is italicized text</i>\n",
    "\n",
    "**Order List**  \n",
    "\n",
    "<ol>\n",
    "  <li>One\n",
    "   <ol>\n",
    "      <li>Sublist level one\n",
    "      <ol>\n",
    "        <li>Sublist level two\n",
    "      </ol></li>\n",
    "  </ol></li>\n",
    "  <li>Two</li>\n",
    "</ol>\n",
    "\n",
    "**Unordered List**  \n",
    "\n",
    "<ul>\n",
    "  <li>One\n",
    "   <ul>\n",
    "      <li>Sublist level one\n",
    "      <ul>\n",
    "        <li>Sublist level two\n",
    "      </ul></li>\n",
    "  </ul></li>\n",
    "  <li>Two</li>\n",
    "</ul>\n",
    "\n",
    "**HTML Table**\n",
    "\n",
    "<table>\n",
    "  <tr>\n",
    "    <th><strong>First Header</strong></th>\n",
    "    <th><strong>Second Header</strong></th>\n",
    "  </tr>\n",
    "  <tr>\n",
    "    <td>Content Cell</td>\n",
    "    <td>Content Cell</td>\n",
    "  </tr>\n",
    "  <tr>\n",
    "    <td>Content Cell</td>\n",
    "    <td>Content Cell</td>\n",
    "  </tr>\n",
    "</table>\n",
    "\n",
    "**Image Embedding**  \n",
    "\n",
    "<img height=150 src=\"https://media.istockphoto.com/photos/all-paws-down-im-the-cutest-picture-id859654404?b=1&k=20&m=859654404&s=170667a&w=0&h=jXyfpUF1n_Ad-ES_fB6XLx_flRC-VUIUtRTTLe_DKTE=\"/>\n",
    "\n",
    "**Centered Image**  \n",
    "\n",
    "<center><img height=150 src=\"https://media.istockphoto.com/photos/all-paws-down-im-the-cutest-picture-id859654404?b=1&k=20&m=859654404&s=170667a&w=0&h=jXyfpUF1n_Ad-ES_fB6XLx_flRC-VUIUtRTTLe_DKTE=\"/></center>"
   ]
  },
  {
   "cell_type": "markdown",
   "metadata": {},
   "source": [
    "### Section 3: Python Tutorial\n",
    "\n",
    "In IPython **code cell**s, you can easily write, edit and execute python code within an IPython Notebook. This capability is great project collaboration and unit-testing chunks of code. To execute a code cell in an IPython notebook, simply click on the cell and use the **ctrl+Enter** hotkey. When executing cells, you can display the output of code using the Python native ```print()``` function. Go ahead and execute the following code cell to print the ```\"Hello, World!\"```. \n",
    "\n",
    "\\**An in-depth overview of functions is outside of the scope of this notebook but perhaps we can explore them in another lunch and learn session.*"
   ]
  },
  {
   "cell_type": "code",
   "execution_count": null,
   "metadata": {},
   "outputs": [],
   "source": [
    "print('Hello, World!')"
   ]
  },
  {
   "cell_type": "markdown",
   "metadata": {},
   "source": [
    "When writing code cells, it's also a good practice to use comments to guide collaborators through your code. Comments can be created by prefixing lines in code cells with a **#** (AKA pound or hash). You can also quickly **comment/uncomment** lines of code within a cell by using the **ctrl+/** hotkey."
   ]
  },
  {
   "cell_type": "code",
   "execution_count": null,
   "metadata": {},
   "outputs": [],
   "source": [
    "# The following line of code is commented out and will not execute\n",
    "# print('I will not execute unless you uncomment me!')\n",
    "\n",
    "# The following line of code will execute\n",
    "print('I am not commented and will execute!')"
   ]
  },
  {
   "cell_type": "markdown",
   "metadata": {},
   "source": [
    "#### Python Variables\n",
    "In python ***variables*** are used to store **data structures, types,** and **functions**. \n",
    "\n",
    "Variables can be declared using the ***assignment*** ```=``` operator. You simply assign a variable by assigning a value to a name in code. \n",
    "\n",
    "Once assigned, you can **print** the output of a **variable** by placing it withing the parentheses of the ```print()``` function."
   ]
  },
  {
   "cell_type": "code",
   "execution_count": null,
   "metadata": {},
   "outputs": [],
   "source": [
    "x = 'Hello, World!'\n",
    "\n",
    "print(x)"
   ]
  },
  {
   "cell_type": "markdown",
   "metadata": {},
   "source": [
    "Variable inputs assinged in code cells can be referenced in other code cells throughout the IPython notebook. Also, in IPython code cells, you don't need to use the ```print()``` function to display variable inputs. \n",
    "\n",
    "You can save time by just placing the variable at the bottom of the cell and then executing it. \n",
    "\n",
    "One caveat about this is that depending on the input, the output may be different. Execute the following line of code to display the contents of the variable ```x``` defined in the previous cell."
   ]
  },
  {
   "cell_type": "code",
   "execution_count": null,
   "metadata": {},
   "outputs": [],
   "source": [
    "x"
   ]
  },
  {
   "cell_type": "markdown",
   "metadata": {},
   "source": [
    "The contents of variables can also be deleted using the Python ```del()``` function. The following code with cause an error after we try to print a variable that has been deleted. "
   ]
  },
  {
   "cell_type": "code",
   "execution_count": null,
   "metadata": {},
   "outputs": [],
   "source": [
    "x = 'Hello, World!'\n",
    "\n",
    "del(x)\n",
    "\n",
    "print(x)"
   ]
  },
  {
   "cell_type": "markdown",
   "metadata": {},
   "source": [
    "**Variable names** have a set of **constraints** in python. They can be of any length, can consist of upper/lowercase characters **(A-Z, a-z)**, digits **(0-9)**, and the underscore ```_``` character. An additional constraint is that the first character of a variable name cannot contain a digit."
   ]
  },
  {
   "cell_type": "code",
   "execution_count": null,
   "metadata": {},
   "outputs": [],
   "source": [
    "_this_is_a_valid_variable_name = \"Hello, World!\"\n",
    "_99_this_is_also_valid_variable_name_77 = \"Hello, World!\"\n",
    "9this_is_an_invalid_variable_name = \"Hello, World\""
   ]
  },
  {
   "cell_type": "markdown",
   "metadata": {},
   "source": [
    "Asside from variable name constraints, there are **idiomatic** or **Pythonic** naming conventions that I highly recommend learning. \n",
    "\n",
    "If you're interested in learning more about idomatic python code, I suggest checking out <a href=https://zen-of-python.info/><i>The Zen of Python</i></a>. \n",
    "\n",
    "Idiomatic coding is a **best practice** in computer science. It helps ensure that your code is readable and understandable by a broader audience of coders making collaboration easier.\n",
    "\n",
    "Two **idiomatic** guidelines for naming conventions are:\n",
    "* **Variable names** should be lowercase with words separated by undescores i.e. these_words_are_separated_by_underscores.\n",
    "* The same rule with variable names applies to function names\n"
   ]
  },
  {
   "cell_type": "markdown",
   "metadata": {},
   "source": [
    "### Python Primitive Data Types\n",
    "\n",
    "This next section will cover **primitive data types** (AKA primitive type). \n",
    "\n",
    "A full understanding of **types** is beyond the scope of this tutorial. The key takeaway is that python has a set of primitive data types that are foundational to the programming language and do not require the user download additional code **libraries** to access them . The four primitive types are:\n",
    "\n",
    "* String\n",
    "* Integers\n",
    "* Float\n",
    "* Boolean"
   ]
  },
  {
   "cell_type": "markdown",
   "metadata": {},
   "source": [
    "#### Strings\n",
    "\n",
    "Strings in python can be declared by surrounding a **sequence of characters** with a pair of **single ('')** or **double (\"\")** quotes. For example, ```'Hello, World!'``` is a string and is the same as ```\"Hello, World!\"```."
   ]
  },
  {
   "cell_type": "code",
   "execution_count": null,
   "metadata": {},
   "outputs": [],
   "source": [
    "# The following lines of code are the same\n",
    "print('Hello, World!')\n",
    "print(\"Hello, World!\")\n",
    "# You can also print single and double quotation marks within a string\n",
    "# as long as you do not use the same quotation markes i.e. double quotes \n",
    "# within double, single within single ect.\n",
    "print('Double Quotes', '\"Hello, World!\"')\n",
    "print('Single Quotes', \"'Hello, World!'\")"
   ]
  },
  {
   "cell_type": "markdown",
   "metadata": {},
   "source": [
    "Two or more strings can be concatenated together by using the ```+``` operator."
   ]
  },
  {
   "cell_type": "code",
   "execution_count": null,
   "metadata": {},
   "outputs": [],
   "source": [
    "hello_world = 'Hello' + ',' + ' World' + '!'\n",
    "\n",
    "print(hello_world)"
   ]
  },
  {
   "cell_type": "markdown",
   "metadata": {},
   "source": [
    "**String interpolation** is the process of injecting a value into a placeholder withing a string. these placeholders are interchangable and can be dynamic by using **variables**. Python provides a few different methods for string interpolation.\n",
    "* The **modulo** ```%``` operator\n",
    "* The ```string.format()``` method using brackets ```{}``` as placeholders\n",
    "* ```f'{}'``` **f-string** formating using  using brackets ```{}``` as placeholders"
   ]
  },
  {
   "cell_type": "code",
   "execution_count": null,
   "metadata": {},
   "outputs": [],
   "source": [
    "# Modulo method example\n",
    "print('%s, %s!'%('Hello', 'World'))\n",
    "\n",
    "# string.format() method examples\n",
    "print('{}, {}!'.format('Hello', 'World'))\n",
    "print('{0}, {1}!'.format('Hello', 'World'))\n",
    "print('{1}, {0}!'.format('Hello', 'World'))\n",
    "\n",
    "# f-string method example\n",
    "hello = 'Hello'\n",
    "world = 'World'\n",
    "print(f'{hello}, {world}!')\n",
    "\n"
   ]
  },
  {
   "cell_type": "markdown",
   "metadata": {},
   "source": [
    "**Special characters** in Python strings are a sequence of characters that when printed, output encodings that are different from the string representations. Most special characters begin with a **backslash** ```\\```. The most basic exampe of a special character is the new-line character ```\\n``` which starts a new line within a string. Here are some examples."
   ]
  },
  {
   "cell_type": "code",
   "execution_count": null,
   "metadata": {},
   "outputs": [],
   "source": [
    "# New line character\n",
    "print('Hello,\\nWorld!')\n",
    "# Tab character\n",
    "print('Hello,\\tWorld!')\n",
    "# Emojis\n",
    "print('\\U0001f600 \\U0001f604 \\U0001F606 \\U0001F923')"
   ]
  },
  {
   "cell_type": "markdown",
   "metadata": {},
   "source": [
    "The **Escape sequence character** for Python is backslash ```\\```. Backslash will escape a special character sequence. A **string literals** are a strings prepended with an ```r```. String literals escape all special character sequences. See below."
   ]
  },
  {
   "cell_type": "code",
   "execution_count": null,
   "metadata": {},
   "outputs": [],
   "source": [
    "# This prints a single backslash\n",
    "print('\\\\')\n",
    "# This will not print a new-line character between hello and world\n",
    "print('Hello,\\\\nWorld!')\n",
    "#This is how you use a single quote within a single-quote string.\n",
    "print('\\'')\n",
    "# Here is a string literal. What once printed emojis\n",
    "# now prints their character sequences.\n",
    "print(r'\\U0001f600 \\U0001f604 \\U0001F606 \\U0001F923')"
   ]
  },
  {
   "cell_type": "markdown",
   "metadata": {},
   "source": [
    "We'll end our tutorial on strings here. This tutorial is not exhaustive. Some topics of further exploration are: **string methods**, **unicode strings**, **string slicing** and **Regular Expressions (RegEx)**."
   ]
  },
  {
   "cell_type": "markdown",
   "metadata": {},
   "source": [
    "#### Integers\n",
    "**Integers** in python are used to represent whole numbers. We can use integers to represent vectors and carry out mathematical operations. We cary out mathematical operations with the use of **operators**. \n",
    "\n",
    "Operators are a topic of deeper discussion that is outside of the scope of this tutorial. \n",
    "\n",
    "Lets look a some common mathematical operators in Python that we can use to carry out mathematical operations with integers.\n",
    "* The **addition operator** ```+``` is used to find the **sum** of two integers.\n",
    "* The **subtraction** ```-``` is used to find the **difference** between two integers.\n",
    "* The **multiplication operator** ```*``` is used to find the **product*** of two integers\n",
    "* The **exponential operator** ```**``` is used to raise the power of a number to an **exponent**.\n",
    "* The **division operator** ```/``` is used to find the **quotient** of two integers.\n",
    "* the **modulo** operator ```%``` is used to find the **remainder** of two integers.\n",
    "* the **floor division** ```//``` operator is find the **quotient** of two integers rounded down to the nearest integer."
   ]
  },
  {
   "cell_type": "code",
   "execution_count": null,
   "metadata": {},
   "outputs": [],
   "source": [
    "# Addition\n",
    "print('2 + 2 ==', 2 + 2)\n",
    "# Subtraction\n",
    "print('2 - 2 ==', 2 - 2)\n",
    "# Multiplication\n",
    "print('2 * 2 ==', 2 * 2)\n",
    "# Exponent\n",
    "print('2 ** 4 ==', 2 ** 4)\n",
    "# Division\n",
    "print('2 / 2 ==', 2 / 2)\n",
    "# Modulo\n",
    "print('5 % 2 ==', 5 % 2)\n",
    "# Floor division\n",
    "print('15 // 2 ==', 15 // 2)"
   ]
  },
  {
   "cell_type": "markdown",
   "metadata": {},
   "source": [
    "#### Floats\n",
    "\n",
    "Also known as floating point decimal numbers, are used to represent numbers with decimal points. All of the same mathematical operations that can be performed with integers can also be performed on floats."
   ]
  },
  {
   "cell_type": "code",
   "execution_count": null,
   "metadata": {},
   "outputs": [],
   "source": [
    "# Addition\n",
    "print('2.2 + 2.2 ==', 2.2 + 2.2)\n",
    "# Subtraction\n",
    "print('2.2 - 2 ==', 2.2 - 2)\n",
    "# Multiplication\n",
    "print('2 * 2.2 ==', 2 * 2.2)\n",
    "# Exponent\n",
    "print('2.2 ** 4 ==', 2.2 ** 4)\n",
    "# Division\n",
    "print('2.2 / 2 ==', 2.2 / 2)\n",
    "# Modulo\n",
    "print('5 % 2.2 ==', 5 % 2.2)\n",
    "# Floor division\n",
    "print('2.44 // 2.2 ==', 2.44 // 2.2)"
   ]
  },
  {
   "cell_type": "markdown",
   "metadata": {},
   "source": [
    "Scientific notation in python can also be used to represent floating point numbers."
   ]
  },
  {
   "cell_type": "code",
   "execution_count": null,
   "metadata": {},
   "outputs": [],
   "source": [
    "print(1e-3, .001)\n",
    "print(1e-8, .00000001)"
   ]
  },
  {
   "cell_type": "markdown",
   "metadata": {},
   "source": [
    "#### Booleans\n",
    "The **boolean** type in Python and other programming languages is the most basic. Booleans are a used to represent a truth series (either ```True``` or ```False```). In Python, boolean declarations always start with a capital letter. \n",
    "\n",
    "I assume the creator of Python did this so that their lower case counterparts can be used as variable declarations. That is a speculative statement and I could be wrong about that."
   ]
  },
  {
   "cell_type": "code",
   "execution_count": null,
   "metadata": {},
   "outputs": [],
   "source": [
    "true = True\n",
    "false = False\n",
    "print(true, false)"
   ]
  },
  {
   "cell_type": "markdown",
   "metadata": {},
   "source": [
    "Declaring boolean values outright in code is not all that interesting. It's when we start to use **comparison operators**, **Logical operators** and **ternary operators** when things get interesting."
   ]
  },
  {
   "cell_type": "markdown",
   "metadata": {},
   "source": [
    "#### Comparison Operators"
   ]
  },
  {
   "cell_type": "code",
   "execution_count": null,
   "metadata": {},
   "outputs": [],
   "source": [
    "# Greater than\n",
    "print('5 > 3 ==', 5 > 3)\n",
    "# Less Than\n",
    "print('5 < 3 ==', 5 < 3)\n",
    "# Greater than or equal to\n",
    "print('5 >= 5 ==', 5 >= 5)\n",
    "# Less than or equal to\n",
    "print('5 <= 5 ==', 5 <= 5)\n",
    "# equality\n",
    "print('5 == 5 ==', 5 == 5)\n",
    "# Multiple comparisons\n",
    "print('1 < 2 < 3 < 4 ==', 1 < 2 < 3 < 4)\n",
    "print('1 < 2 < 3 > 4 ==', 1 < 2 < 3 > 4)"
   ]
  },
  {
   "cell_type": "markdown",
   "metadata": {},
   "source": [
    "While these same operator comparisons will evaluate intuitively when using them on **integers**; however, you have to be careful when using **comparison operators** on **floats**. \n",
    "\n",
    "The below cell outlines the problem. The statemet ```x == y``` should evaluate to ```True```. After we execute the cell, we'll see that it does not."
   ]
  },
  {
   "cell_type": "code",
   "execution_count": null,
   "metadata": {},
   "outputs": [],
   "source": [
    "x = .1 + .1 + .1 \n",
    "y = .3\n",
    "print('x == y', x == y)\n"
   ]
  },
  {
   "cell_type": "markdown",
   "metadata": {},
   "source": [
    "This is because floats are **approximate representations of real numbers**. \n",
    "\n",
    "When we apply mathematical operations to floats in Python, occasionally we loose precision. The cell give us greater insight into the problem. We can see by observing the printed output of the variable ```x``` that ```.1 + .1 + .1``` does not equal ```.3```. "
   ]
  },
  {
   "cell_type": "code",
   "execution_count": null,
   "metadata": {},
   "outputs": [],
   "source": [
    "print('x == ', x)\n",
    "print('y == ', y)"
   ]
  },
  {
   "cell_type": "markdown",
   "metadata": {},
   "source": [
    "#### Logical Operators\n",
    "**Logical operators** allow us to evaluate the truth series of multiple statements. \n",
    "\n",
    "The three logical operators in python are ```and```, ```or``` and ```not```. You can combine logical operators with comparison operators to create complex algorithmic logic."
   ]
  },
  {
   "cell_type": "code",
   "execution_count": null,
   "metadata": {},
   "outputs": [],
   "source": [
    "print('True and True ==', True and True)\n",
    "print('True and False ==', True and False)\n",
    "print('True or False ==', True or False)\n",
    "print('False or False ==', False or False)\n",
    "print('False or not False ==', False or not False)\n",
    "print('False or not True ==', False or not True)\n",
    "print('1 == 1 and 2 == 2 ==', 1 == 1 and 2 == 2)\n",
    "print('1 == 1 and 2 > 2 ==', 1 == 1 and 2 > 2)"
   ]
  },
  {
   "cell_type": "markdown",
   "metadata": {},
   "source": [
    "#### Ternary Operator\n",
    "The ternary operator uses ```if``` ... ```else``` syntax to dynamically assign variables based on the evaluation of a statement."
   ]
  },
  {
   "cell_type": "code",
   "execution_count": null,
   "metadata": {},
   "outputs": [],
   "source": [
    "print('1 if 1 == 1 else 2 ==', 1 if 1 == 1 else 2)\n",
    "print('1 if 2 == 1 else 2 ==', 1 if 2 == 1 else 2)\n",
    "\n",
    "what_color_is_the_sky = 'blue' if 'sky'.startswith('s') else 'grey'\n",
    "\n",
    "print('The color of the sky is', what_color_is_the_sky)"
   ]
  },
  {
   "cell_type": "markdown",
   "metadata": {},
   "source": [
    "#### Challenge\n",
    "What will the following code cell output?"
   ]
  },
  {
   "cell_type": "code",
   "execution_count": null,
   "metadata": {},
   "outputs": [],
   "source": [
    "for i in [11, 12, 14, 17]:\n",
    "    eval = 0 if i % 2 == 0 else i\n",
    "    print(eval)"
   ]
  },
  {
   "cell_type": "markdown",
   "metadata": {},
   "source": [
    "#### Type checking\n",
    "Python has built in functions to **check variable types**. You can use the ```type()``` function to obtain the type name and you can pass a variable and type into the ```isinstance()``` function to obtain a boolean value if the type matches the variable type."
   ]
  },
  {
   "cell_type": "code",
   "execution_count": null,
   "metadata": {},
   "outputs": [],
   "source": [
    "print(type('Hello, World!'))\n",
    "print(type(1))\n",
    "print(type(.1))\n",
    "print(type(2 + 2 == 4))"
   ]
  },
  {
   "cell_type": "code",
   "execution_count": null,
   "metadata": {},
   "outputs": [],
   "source": [
    "print(\"isinstance('Hello, World!', str) ==\", isinstance('Hello, World!', str))\n",
    "print(\"isinstance(1, float) ==\", isinstance(1, float))\n",
    "print(\"isinstance(.1, int) ==\", isinstance(.1, int))\n",
    "print(\"isinstance(2 + 2 == 4, bool) ==\", isinstance(2 + 2 == 4, bool))"
   ]
  },
  {
   "cell_type": "markdown",
   "metadata": {},
   "source": [
    "### Part 4: Conclusion\n",
    "Thank you for attending our AI @ VA Community lunch are learn session. I hope you found this tutorial to be **fun** and **informative**. We're going to be taking your feedback and preparing future lunch and hopefully be able to create learn sessions that are taylored toward your **desired learning objectives** and **skill level**."
   ]
  },
  {
   "cell_type": "markdown",
   "metadata": {},
   "source": [
    "My name is **Tim Strebel** I can be reached at <a href = \"mailto:Timothy.Strebel@va.gov\">Timothy.Strebel@va.gov</a> or feel free to reach out to other NAII members in the community at <a href = \"mailto:VHAWAS.AI.COMMUNITY@va.gov\">VHAWas.AI.Community@va.gov</a>."
   ]
  },
  {
   "cell_type": "code",
   "execution_count": 5,
   "metadata": {},
   "outputs": [
    {
     "name": "stdout",
     "output_type": "stream",
     "text": [
      "Last updated: 2021-12-15T10:23:21.383033-05:00\n",
      "\n",
      "Python implementation: CPython\n",
      "Python version       : 3.9.5\n",
      "IPython version      : 7.29.0\n",
      "\n",
      "Compiler    : MSC v.1928 64 bit (AMD64)\n",
      "OS          : Windows\n",
      "Release     : 10\n",
      "Machine     : AMD64\n",
      "Processor   : Intel64 Family 6 Model 78 Stepping 3, GenuineIntel\n",
      "CPU cores   : 4\n",
      "Architecture: 64bit\n",
      "\n"
     ]
    }
   ],
   "source": [
    "%reload_ext watermark\n",
    "\n",
    "%watermark"
   ]
  }
 ],
 "metadata": {
  "interpreter": {
   "hash": "17a363178e07e712c18a3dbb9ea680cd66c7427b5c0f5f50aa82d5159f2abde6"
  },
  "kernelspec": {
   "display_name": "Python 3.9.5 64-bit ('playground': venv)",
   "language": "python",
   "name": "python3"
  },
  "language_info": {
   "codemirror_mode": {
    "name": "ipython",
    "version": 3
   },
   "file_extension": ".py",
   "mimetype": "text/x-python",
   "name": "python",
   "nbconvert_exporter": "python",
   "pygments_lexer": "ipython3",
   "version": "3.9.5"
  },
  "orig_nbformat": 4
 },
 "nbformat": 4,
 "nbformat_minor": 2
}
